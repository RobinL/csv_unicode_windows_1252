{
 "cells": [
  {
   "cell_type": "code",
   "execution_count": null,
   "metadata": {
    "collapsed": true
   },
   "outputs": [],
   "source": [
    "#How to deal with csv encoding issues in pandas"
   ]
  },
  {
   "cell_type": "code",
   "execution_count": null,
   "metadata": {
    "collapsed": true
   },
   "outputs": [],
   "source": [
    "#In general it is possible to guess the encoding of a file.  But in many instances this can be guessed. \n",
    "\n",
    "#Where possible, we should find out the encoding.  For example, excel encodes csvs as windows 1251 if you choose 'csv - comma delimited' (note its different if you choose csv ms dos)"
   ]
  },
  {
   "cell_type": "code",
   "execution_count": null,
   "metadata": {
    "collapsed": false
   },
   "outputs": [],
   "source": [
    "# Here's automatic detection\n",
    "from bs4 import BeautifulSoup\n",
    "\n",
    "f = open(\"windows 1252.csv\")\n",
    "content = f.read()\n",
    "f.close()\n",
    "\n",
    "soup = BeautifulSoup(content)\n",
    "\n",
    "soup.original_encoding"
   ]
  },
  {
   "cell_type": "code",
   "execution_count": null,
   "metadata": {
    "collapsed": true
   },
   "outputs": [],
   "source": [
    "#Once we think we know the encoding, we pass this to 'read csv'"
   ]
  },
  {
   "cell_type": "code",
   "execution_count": null,
   "metadata": {
    "collapsed": true
   },
   "outputs": [],
   "source": [
    "import pandas as pd"
   ]
  },
  {
   "cell_type": "code",
   "execution_count": null,
   "metadata": {
    "collapsed": false
   },
   "outputs": [],
   "source": [
    "# Here we have a csv file which we know is encoded as windows 1252 (from Excel)\n",
    "df = pd.read_csv(\"windows 1252.csv\", encoding=\"windows-1252\")\n",
    "df"
   ]
  },
  {
   "cell_type": "code",
   "execution_count": null,
   "metadata": {
    "collapsed": false
   },
   "outputs": [],
   "source": [
    "# Note that it's unicode within the dataframe (not utf-8, which is an encoding of unicode)\n",
    "df.iloc[0,0]"
   ]
  },
  {
   "cell_type": "code",
   "execution_count": null,
   "metadata": {
    "collapsed": false
   },
   "outputs": [],
   "source": [
    "# This will fail because it will try and read in characters which encoded as utf-8 and convert to unicode - but some of the characters are not valid utf-8\n",
    "df = pd.read_csv(\"windows 1252.csv\", encoding=\"utf-8\")\n",
    "df"
   ]
  },
  {
   "cell_type": "code",
   "execution_count": null,
   "metadata": {
    "collapsed": false
   },
   "outputs": [],
   "source": [
    "# Since the df is always unicode no matter what the original encoding, then when we write to a file, we have to select what encoding we want\n",
    "df.to_csv(\"out.csv\")\n",
    "# Note that leaving encoding blank is equivalent to no encoding.  If there are unicode characters, this will probably error\n",
    "\n",
    "df.to_csv(\"out.csv\", encoding=\"utf-8\")"
   ]
  },
  {
   "cell_type": "code",
   "execution_count": null,
   "metadata": {
    "collapsed": true
   },
   "outputs": [],
   "source": [
    "# Or we can encode out to the original encoding\n",
    "df.to_csv(\"out.csv\", encoding=\"windows-1252\")"
   ]
  }
 ],
 "metadata": {
  "kernelspec": {
   "display_name": "Python 2",
   "language": "python",
   "name": "python2"
  },
  "language_info": {
   "codemirror_mode": {
    "name": "ipython",
    "version": 2
   },
   "file_extension": ".py",
   "mimetype": "text/x-python",
   "name": "python",
   "nbconvert_exporter": "python",
   "pygments_lexer": "ipython2",
   "version": "2.7.6"
  }
 },
 "nbformat": 4,
 "nbformat_minor": 0
}
